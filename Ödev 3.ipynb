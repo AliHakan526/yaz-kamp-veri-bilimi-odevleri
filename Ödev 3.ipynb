{
 "cells": [
  {
   "cell_type": "code",
   "execution_count": 8,
   "id": "1dc5cea3-3351-4730-9357-b416fde95f14",
   "metadata": {},
   "outputs": [
    {
     "name": "stdout",
     "output_type": "stream",
     "text": [
      "100\n",
      "{100, 92, 85, 76}\n",
      "[76, 76, 85, 85, 92, 92, 92, 100]\n"
     ]
    }
   ],
   "source": [
    "notes = [85, 92, 76, 92, 100, 76, 85, 92]\n",
    "notes2 = set(notes)\n",
    "max = 0\n",
    "for note in notes:\n",
    "    if max < note:\n",
    "        max = note\n",
    "print(max)\n",
    "print(notes2)\n",
    "notes.sort()\n",
    "print(notes)"
   ]
  },
  {
   "cell_type": "code",
   "execution_count": 9,
   "id": "10416a32-9628-4475-90ae-d74263200fea",
   "metadata": {},
   "outputs": [
    {
     "name": "stdin",
     "output_type": "stream",
     "text": [
      "enter a number 12\n"
     ]
    },
    {
     "name": "stdout",
     "output_type": "stream",
     "text": [
      "no armstrong\n"
     ]
    }
   ],
   "source": [
    "    number = int(input(\"enter a number\"))\n",
    "    digits = str(number)\n",
    "    total = 0\n",
    "    for d in digits:\n",
    "        total += int(d) ** 3\n",
    "    if total == number:\n",
    "        print(\"armstrong\")\n",
    "    else:\n",
    "        print(\"no armstrong\") \n"
   ]
  },
  {
   "cell_type": "code",
   "execution_count": 10,
   "id": "833229cc-eda8-43d8-acd4-97ea10d4d3bc",
   "metadata": {},
   "outputs": [
    {
     "name": "stdout",
     "output_type": "stream",
     "text": [
      "{'Python', 'SQL'}\n",
      "{'R', 'Java'}\n",
      "['C++', 'Java', 'JavaScript', 'Python', 'R', 'SQL']\n"
     ]
    }
   ],
   "source": [
    "A = {\"Python\", \"R\", \"SQL\", \"Java\"}\n",
    "B = {\"C++\", \"Python\", \"JavaScript\", \"SQL\"}\n",
    "\n",
    "common = A & B\n",
    "print(common)\n",
    "\n",
    "only_in_A = A - B\n",
    "print(only_in_A)\n",
    "\n",
    "union_sorted = sorted(A | B)\n",
    "print(union_sorted)\n"
   ]
  },
  {
   "cell_type": "code",
   "execution_count": 11,
   "id": "9a5c22cc-6aa5-4bc6-8077-1f41b5fd04fc",
   "metadata": {},
   "outputs": [
    {
     "name": "stdout",
     "output_type": "stream",
     "text": [
      "Numbers: [71, 1, 33, 38, 72, 68, 54, 71, 72, 35]\n",
      "Mean: 51.5\n",
      "Standard Deviation: 24.098178815466994\n"
     ]
    }
   ],
   "source": [
    "import random\n",
    "import statistics\n",
    "\n",
    "numbers = [random.randint(1, 100) for _ in range(10)]\n",
    "\n",
    "mean_value = statistics.mean(numbers)\n",
    "stdev_value = statistics.stdev(numbers)\n",
    "\n",
    "print(\"Numbers:\", numbers)\n",
    "print(\"Mean:\", mean_value)\n",
    "print(\"Standard Deviation:\", stdev_value)\n"
   ]
  },
  {
   "cell_type": "code",
   "execution_count": 1,
   "id": "71eac943-5b9c-4ec8-bc0c-25f9ad121a21",
   "metadata": {},
   "outputs": [
    {
     "name": "stdout",
     "output_type": "stream",
     "text": [
      "[576, 324, 256, 144]\n"
     ]
    }
   ],
   "source": [
    "numbers = [5, 12, 7, 18, 24, 3, 16]\n",
    "\n",
    "even_numbers = filter(lambda x: x % 2 == 0, numbers)\n",
    "squares = map(lambda x: x**2, even_numbers)\n",
    "sorted_squares = sorted(squares, reverse=True)\n",
    "\n",
    "print(list(sorted_squares))\n"
   ]
  },
  {
   "cell_type": "code",
   "execution_count": 2,
   "id": "e2d2f2fe-20c8-4900-b45a-88701bfdd8cb",
   "metadata": {},
   "outputs": [
    {
     "name": "stdout",
     "output_type": "stream",
     "text": [
      "['veri', 'bilim', 'analiz', 'python', 'yapayzeka']\n"
     ]
    }
   ],
   "source": [
    "words = [\"veri\", \"bilim\", \"analiz\", \"yapayzeka\", \"python\"]\n",
    "\n",
    "sorted_words = sorted(words, key=lambda x: len(x))\n",
    "\n",
    "print(sorted_words)\n"
   ]
  },
  {
   "cell_type": "code",
   "execution_count": 3,
   "id": "0612e450-e3ed-4970-abf6-36d7d5c75ae9",
   "metadata": {},
   "outputs": [
    {
     "name": "stdout",
     "output_type": "stream",
     "text": [
      "15\n"
     ]
    }
   ],
   "source": [
    "def sum_of_numbers(s):\n",
    "    import re\n",
    "    numbers = re.findall(r'\\d+', s)\n",
    "    numbers = map(int, numbers)\n",
    "    return sum(numbers)\n",
    "\n",
    "text = \"abc12def3\"\n",
    "print(sum_of_numbers(text))\n"
   ]
  },
  {
   "cell_type": "code",
   "execution_count": 4,
   "id": "d38c6b90-5064-4efc-9944-f85661775bfb",
   "metadata": {},
   "outputs": [
    {
     "name": "stdout",
     "output_type": "stream",
     "text": [
      "Array: [48 42 30  8  8 45  4 33  6 16]\n",
      "Mean: 24.0\n",
      "Standard deviation: 16.607227342335023\n",
      "Max value: 48\n"
     ]
    }
   ],
   "source": [
    "import numpy as np\n",
    "\n",
    "arr = np.random.randint(0, 51, size=10)\n",
    "mean = np.mean(arr)\n",
    "std = np.std(arr)\n",
    "max_value = np.max(arr)\n",
    "\n",
    "print(\"Array:\", arr)\n",
    "print(\"Mean:\", mean)\n",
    "print(\"Standard deviation:\", std)\n",
    "print(\"Max value:\", max_value)\n"
   ]
  },
  {
   "cell_type": "code",
   "execution_count": 5,
   "id": "ff413951-215b-491a-b20b-64c78f314d46",
   "metadata": {},
   "outputs": [
    {
     "name": "stdout",
     "output_type": "stream",
     "text": [
      "Matrix:\n",
      " [[0.00912192 0.88111225 0.11940967 0.43739998 0.38180321]\n",
      " [0.27489452 0.29645185 0.08214095 0.28025032 0.08135539]\n",
      " [0.59395636 0.76957184 0.79291149 0.42412083 0.59381337]\n",
      " [0.52683875 0.39584626 0.17632753 0.5968066  0.48673586]\n",
      " [0.31487141 0.32119018 0.70071332 0.34563286 0.39461722]]\n",
      "Column means: [0.34393659 0.53283448 0.37430059 0.41684212 0.38766501]\n",
      "Binary matrix:\n",
      " [[0 1 0 0 0]\n",
      " [0 0 0 0 0]\n",
      " [1 1 1 0 1]\n",
      " [1 0 0 1 0]\n",
      " [0 0 1 0 0]]\n"
     ]
    }
   ],
   "source": [
    "import numpy as np\n",
    "\n",
    "matrix = np.random.rand(5, 5)\n",
    "column_means = np.mean(matrix, axis=0)\n",
    "binary_matrix = (matrix > 0.5).astype(int)\n",
    "\n",
    "print(\"Matrix:\\n\", matrix)\n",
    "print(\"Column means:\", column_means)\n",
    "print(\"Binary matrix:\\n\", binary_matrix)\n"
   ]
  },
  {
   "cell_type": "code",
   "execution_count": 6,
   "id": "c7e85c89-c5b0-4aab-ac57-caea3d575a36",
   "metadata": {},
   "outputs": [
    {
     "name": "stdout",
     "output_type": "stream",
     "text": [
      "Top selling book: {'isim': 'Makine Öğrenmesi', 'yazar': 'Can', 'tur': 'Bilim', 'satis': 1800, 'yil': 2022}\n",
      "Author sales: {'Ali': 3400, 'Ayşe': 1550, 'Can': 1800, 'Deniz': 400}\n",
      "All types: {'Sosyal', 'Sanat', 'Bilim', 'Akademik'}\n",
      "High sales books: ['Veri Bilimi 101', 'Makine Öğrenmesi', 'Matematiksel Modelleme']\n",
      "Books after 2020: [{'isim': 'Veri Bilimi 101', 'yazar': 'Ali', 'tur': 'Bilim', 'satis': 1200, 'yil': 2021}, {'isim': 'Makine Öğrenmesi', 'yazar': 'Can', 'tur': 'Bilim', 'satis': 1800, 'yil': 2022}, {'isim': 'Matematiksel Modelleme', 'yazar': 'Ali', 'tur': 'Akademik', 'satis': 1500, 'yil': 2021}, {'isim': 'Bilgi Toplumu', 'yazar': 'Ayşe', 'tur': 'Sosyal', 'satis': 600, 'yil': 2022}]\n",
      "Increased sales list: [1320, 1045, 770, 1980, 440, 1650, 660]\n",
      "Books sorted by sales: [{'isim': 'Makine Öğrenmesi', 'yazar': 'Can', 'tur': 'Bilim', 'satis': 1800, 'yil': 2022}, {'isim': 'Matematiksel Modelleme', 'yazar': 'Ali', 'tur': 'Akademik', 'satis': 1500, 'yil': 2021}, {'isim': 'Veri Bilimi 101', 'yazar': 'Ali', 'tur': 'Bilim', 'satis': 1200, 'yil': 2021}, {'isim': 'Python ile Yapay Zeka', 'yazar': 'Ayşe', 'tur': 'Bilim', 'satis': 950, 'yil': 2020}, {'isim': 'İstatistik Temelleri', 'yazar': 'Ali', 'tur': 'Akademik', 'satis': 700, 'yil': 2019}, {'isim': 'Bilgi Toplumu', 'yazar': 'Ayşe', 'tur': 'Sosyal', 'satis': 600, 'yil': 2022}, {'isim': 'Veri Görselleştirme', 'yazar': 'Deniz', 'tur': 'Sanat', 'satis': 400, 'yil': 2018}]\n",
      "Average sales: 1021.4285714285714\n",
      "Most selling type: Bilim\n",
      "Sales standard deviation: 506.5053001179939\n"
     ]
    }
   ],
   "source": [
    "import statistics\n",
    "\n",
    "kitaplar = [\n",
    "    {\"isim\": \"Veri Bilimi 101\", \"yazar\": \"Ali\", \"tur\": \"Bilim\", \"satis\": 1200, \"yil\": 2021},\n",
    "    {\"isim\": \"Python ile Yapay Zeka\", \"yazar\": \"Ayşe\", \"tur\": \"Bilim\", \"satis\": 950, \"yil\": 2020},\n",
    "    {\"isim\": \"İstatistik Temelleri\", \"yazar\": \"Ali\", \"tur\": \"Akademik\", \"satis\": 700, \"yil\": 2019},\n",
    "    {\"isim\": \"Makine Öğrenmesi\", \"yazar\": \"Can\", \"tur\": \"Bilim\", \"satis\": 1800, \"yil\": 2022},\n",
    "    {\"isim\": \"Veri Görselleştirme\", \"yazar\": \"Deniz\", \"tur\": \"Sanat\", \"satis\": 400, \"yil\": 2018},\n",
    "    {\"isim\": \"Matematiksel Modelleme\", \"yazar\": \"Ali\", \"tur\": \"Akademik\", \"satis\": 1500, \"yil\": 2021},\n",
    "    {\"isim\": \"Bilgi Toplumu\", \"yazar\": \"Ayşe\", \"tur\": \"Sosyal\", \"satis\": 600, \"yil\": 2022}\n",
    "]\n",
    "\n",
    "def top_selling_book(books):\n",
    "    return max(books, key=lambda x: x['satis'])\n",
    "\n",
    "def author_sales(books):\n",
    "    sales = {}\n",
    "    for book in books:\n",
    "        sales[book['yazar']] = sales.get(book['yazar'], 0) + book['satis']\n",
    "    return sales\n",
    "\n",
    "all_types = set(book['tur'] for book in kitaplar)\n",
    "high_sales_books = [book['isim'] for book in kitaplar if book['satis'] > 1000]\n",
    "\n",
    "books_after_2020 = list(filter(lambda x: x['yil'] > 2020, kitaplar))\n",
    "increased_sales = list(map(lambda x: int(x['satis'] * 1.1), kitaplar))\n",
    "sorted_books = sorted(kitaplar, key=lambda x: x['satis'], reverse=True)\n",
    "\n",
    "sales_list = [book['satis'] for book in kitaplar]\n",
    "average_sales = statistics.mean(sales_list)\n",
    "sales_std = statistics.stdev(sales_list)\n",
    "\n",
    "from collections import Counter\n",
    "types = [book['tur'] for book in kitaplar]\n",
    "most_selling_type = Counter(types).most_common(1)[0][0]\n",
    "\n",
    "print(\"Top selling book:\", top_selling_book(kitaplar))\n",
    "print(\"Author sales:\", author_sales(kitaplar))\n",
    "print(\"All types:\", all_types)\n",
    "print(\"High sales books:\", high_sales_books)\n",
    "print(\"Books after 2020:\", books_after_2020)\n",
    "print(\"Increased sales list:\", increased_sales)\n",
    "print(\"Books sorted by sales:\", sorted_books)\n",
    "print(\"Average sales:\", average_sales)\n",
    "print(\"Most selling type:\", most_selling_type)\n",
    "print(\"Sales standard deviation:\", sales_std)\n"
   ]
  },
  {
   "cell_type": "code",
   "execution_count": null,
   "id": "48dfbd62-6006-4020-bd11-1219129bbf18",
   "metadata": {},
   "outputs": [],
   "source": []
  }
 ],
 "metadata": {
  "kernelspec": {
   "display_name": "Python 3 (ipykernel)",
   "language": "python",
   "name": "python3"
  },
  "language_info": {
   "codemirror_mode": {
    "name": "ipython",
    "version": 3
   },
   "file_extension": ".py",
   "mimetype": "text/x-python",
   "name": "python",
   "nbconvert_exporter": "python",
   "pygments_lexer": "ipython3",
   "version": "3.13.0"
  }
 },
 "nbformat": 4,
 "nbformat_minor": 5
}
