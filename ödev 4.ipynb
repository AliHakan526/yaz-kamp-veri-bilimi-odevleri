{
 "cells": [
  {
   "cell_type": "code",
   "execution_count": 1,
   "id": "bab4fac8-9b99-4fe7-b8ab-7739ac6c97e7",
   "metadata": {},
   "outputs": [
    {
     "name": "stdout",
     "output_type": "stream",
     "text": [
      "Matrix:\n",
      " [[ 91  27  46  34  31]\n",
      " [ 26  27  14  65  67]\n",
      " [ 40  73  84  90  17]\n",
      " [  5  21  84  53  74]\n",
      " [100  40  37  94  60]]\n",
      "Mean: 52.0\n",
      "Std: 27.95997138768207\n",
      "Var: 781.76\n",
      "Max: 100\n",
      "Min: 5\n",
      "Diag Sum: 315\n"
     ]
    }
   ],
   "source": [
    "import numpy as np\n",
    "\n",
    "matrix = np.random.randint(0, 101, (5, 5))\n",
    "mean_val = np.mean(matrix)\n",
    "std_val = np.std(matrix)\n",
    "var_val = np.var(matrix)\n",
    "max_val = np.max(matrix)\n",
    "min_val = np.min(matrix)\n",
    "diag_sum = np.trace(matrix)\n",
    "print(\"Matrix:\\n\", matrix)\n",
    "print(\"Mean:\", mean_val)\n",
    "print(\"Std:\", std_val)\n",
    "print(\"Var:\", var_val)\n",
    "print(\"Max:\", max_val)\n",
    "print(\"Min:\", min_val)\n",
    "print(\"Diag Sum:\", diag_sum)\n"
   ]
  },
  {
   "cell_type": "code",
   "execution_count": 3,
   "id": "134ca4e9-0198-43bd-8236-09331265218c",
   "metadata": {},
   "outputs": [
    {
     "name": "stdout",
     "output_type": "stream",
     "text": [
      "\n",
      "Mean Score: 48.89374095488255\n",
      "Median Score: 49.20077098829035\n",
      "Std Score: 14.66058717841289\n",
      "Below 50: 520\n"
     ]
    }
   ],
   "source": [
    "import numpy as np\n",
    "scores = np.random.normal(50, 15, 1000)\n",
    "scores = np.clip(scores, 0, 100)\n",
    "mean_score = np.mean(scores)\n",
    "median_score = np.median(scores)\n",
    "std_score = np.std(scores)\n",
    "below_50 = np.sum(scores < 50)\n",
    "\n",
    "print(\"\\nMean Score:\", mean_score)\n",
    "print(\"Median Score:\", median_score)\n",
    "print(\"Std Score:\", std_score)\n",
    "print(\"Below 50:\", below_50)\n"
   ]
  },
  {
   "cell_type": "code",
   "execution_count": 4,
   "id": "041d45f6-1385-473e-a5ed-04388a21ae43",
   "metadata": {},
   "outputs": [
    {
     "name": "stdout",
     "output_type": "stream",
     "text": [
      "DataFrame:\n",
      "   Student  Age Department  Math  Physics  Chemistry\n",
      "0     Ali   20   Computer    70       65         80\n",
      "1    Ayşe   21    Physics    60       75         85\n",
      "2  Mehmet   19  Chemistry    80       70         65\n",
      "3  Zeynep   22   Computer    90       85         95\n",
      "4   Ahmet   20    Physics    55       60         70 \n",
      "\n",
      "Average Scores:\n",
      " Math         71.0\n",
      "Physics      71.0\n",
      "Chemistry    79.0\n",
      "dtype: float64 \n",
      "\n",
      "Highest Math Student:\n",
      " Student         Zeynep\n",
      "Age                 22\n",
      "Department    Computer\n",
      "Math                90\n",
      "Physics             85\n",
      "Chemistry           95\n",
      "Name: 3, dtype: object \n",
      "\n",
      "DataFrame with Average:\n",
      "   Student  Age Department  Math  Physics  Chemistry    Average\n",
      "0     Ali   20   Computer    70       65         80  71.666667\n",
      "1    Ayşe   21    Physics    60       75         85  73.333333\n",
      "2  Mehmet   19  Chemistry    80       70         65  71.666667\n",
      "3  Zeynep   22   Computer    90       85         95  90.000000\n",
      "4   Ahmet   20    Physics    55       60         70  61.666667 \n",
      "\n",
      "Department Averages:\n",
      "             Math  Physics  Chemistry    Average\n",
      "Department                                     \n",
      "Chemistry   80.0     70.0       65.0  71.666667\n",
      "Computer    80.0     75.0       87.5  80.833333\n",
      "Physics     57.5     67.5       77.5  67.500000 \n",
      "\n",
      "Students with Average > 70:\n",
      "   Student  Age Department  Math  Physics  Chemistry    Average\n",
      "0     Ali   20   Computer    70       65         80  71.666667\n",
      "1    Ayşe   21    Physics    60       75         85  73.333333\n",
      "2  Mehmet   19  Chemistry    80       70         65  71.666667\n",
      "3  Zeynep   22   Computer    90       85         95  90.000000\n"
     ]
    }
   ],
   "source": [
    "import pandas as pd\n",
    "\n",
    "data = {\n",
    "    \"Student\": [\"Ali\", \"Ayşe\", \"Mehmet\", \"Zeynep\", \"Ahmet\"],\n",
    "    \"Age\": [20, 21, 19, 22, 20],\n",
    "    \"Department\": [\"Computer\", \"Physics\", \"Chemistry\", \"Computer\", \"Physics\"],\n",
    "    \"Math\": [70, 60, 80, 90, 55],\n",
    "    \"Physics\": [65, 75, 70, 85, 60],\n",
    "    \"Chemistry\": [80, 85, 65, 95, 70]\n",
    "}\n",
    "df = pd.DataFrame(data)\n",
    "print(\"DataFrame:\\n\", df, \"\\n\")\n",
    "\n",
    "avg_scores = df[[\"Math\", \"Physics\", \"Chemistry\"]].mean()\n",
    "print(\"Average Scores:\\n\", avg_scores, \"\\n\")\n",
    "\n",
    "max_math_student = df.loc[df[\"Math\"].idxmax()]\n",
    "print(\"Highest Math Student:\\n\", max_math_student, \"\\n\")\n",
    "\n",
    "df[\"Average\"] = df[[\"Math\", \"Physics\", \"Chemistry\"]].mean(axis=1)\n",
    "print(\"DataFrame with Average:\\n\", df, \"\\n\")\n",
    "\n",
    "dept_avg = df.groupby(\"Department\")[[\"Math\", \"Physics\", \"Chemistry\", \"Average\"]].mean()\n",
    "print(\"Department Averages:\\n\", dept_avg, \"\\n\")\n",
    "\n",
    "above_70 = df[df[\"Average\"] > 70]\n",
    "print(\"Students with Average > 70:\\n\", above_70)\n"
   ]
  },
  {
   "cell_type": "code",
   "execution_count": null,
   "id": "adacc83b-fe87-43a7-b802-9390b6c5a9e1",
   "metadata": {},
   "outputs": [],
   "source": []
  }
 ],
 "metadata": {
  "kernelspec": {
   "display_name": "Python 3 (ipykernel)",
   "language": "python",
   "name": "python3"
  },
  "language_info": {
   "codemirror_mode": {
    "name": "ipython",
    "version": 3
   },
   "file_extension": ".py",
   "mimetype": "text/x-python",
   "name": "python",
   "nbconvert_exporter": "python",
   "pygments_lexer": "ipython3",
   "version": "3.13.0"
  }
 },
 "nbformat": 4,
 "nbformat_minor": 5
}
